{
 "cells": [
  {
   "cell_type": "markdown",
   "id": "dfbb496d-32f0-44ee-857a-1643056712ef",
   "metadata": {},
   "source": [
    "# Episode 1\n",
    "This episode covers accessing GAIA tables"
   ]
  },
  {
   "cell_type": "code",
   "execution_count": 1,
   "id": "892dbf06-bdda-4670-b5c1-ea943eac96a7",
   "metadata": {},
   "outputs": [],
   "source": [
    "import numpy as np\n",
    "\n",
    "from astroquery.gaia import Gaia"
   ]
  },
  {
   "cell_type": "code",
   "execution_count": 2,
   "id": "eb06dd7b-aedc-4c0e-a259-30f30100c89e",
   "metadata": {},
   "outputs": [
    {
     "name": "stdout",
     "output_type": "stream",
     "text": [
      "INFO: Retrieving tables... [astroquery.utils.tap.core]\n",
      "INFO: Parsing tables... [astroquery.utils.tap.core]\n",
      "INFO: Done. [astroquery.utils.tap.core]\n"
     ]
    }
   ],
   "source": [
    "tables = Gaia.load_tables(only_names=True)\n",
    "\n",
    "#for table in tables:\n",
    "#    print(table.name)"
   ]
  },
  {
   "cell_type": "markdown",
   "id": "714e7c26-c919-4c9b-914d-86eb6e9ec8d2",
   "metadata": {},
   "source": [
    "We're interested in data from the `gaiadr2` (GAIA Release 2), since this is the data that the paper was based on."
   ]
  },
  {
   "cell_type": "code",
   "execution_count": 3,
   "id": "5d760c8f-8011-427f-8be4-0c9f66ed7079",
   "metadata": {},
   "outputs": [],
   "source": [
    "table_metadata = Gaia.load_table('gaiadr2.gaia_source')\n",
    "#print(table_metadata)"
   ]
  },
  {
   "cell_type": "code",
   "execution_count": 4,
   "id": "54f86333-8d89-436a-bae7-cc69fad96563",
   "metadata": {},
   "outputs": [],
   "source": [
    "#for col in table_metadata.columns:\n",
    "#    print(col.name)"
   ]
  },
  {
   "cell_type": "markdown",
   "id": "522a0ce7-4241-4a55-b829-335803f4afbc",
   "metadata": {},
   "source": [
    "### Exercise 1.1 \n",
    "One of the other tables we will use is `gaiadr2.panstarrs1_original_valid`. Use `load_table` to get the metadata for this table. How many columns are there and what are their names?"
   ]
  },
  {
   "cell_type": "code",
   "execution_count": 5,
   "id": "35d02a38-22d8-4e83-8bfc-5b165dd75779",
   "metadata": {},
   "outputs": [],
   "source": [
    "panstarr_metadata = Gaia.load_table('gaiadr2.panstarrs1_original_valid')\n",
    "#print(panstarr_metadata)\n",
    "#for col in panstarr_metadata.columns:\n",
    "#    print(col)"
   ]
  },
  {
   "cell_type": "markdown",
   "id": "9ccdb4fa-c8a6-4bbf-9f4b-3b285d99229b",
   "metadata": {},
   "source": [
    "## Writing queries"
   ]
  },
  {
   "cell_type": "code",
   "execution_count": 6,
   "id": "f9ab0d65-250e-4081-ab06-a3dd62bc2599",
   "metadata": {},
   "outputs": [
    {
     "data": {
      "text/html": [
       "<div><i>Table length=10</i>\n",
       "<table id=\"table4618842336\" class=\"table-striped table-bordered table-condensed\">\n",
       "<thead><tr><th>SOURCE_ID</th><th>ra</th><th>dec</th><th>parallax</th></tr></thead>\n",
       "<thead><tr><th></th><th>deg</th><th>deg</th><th>mas</th></tr></thead>\n",
       "<thead><tr><th>int64</th><th>float64</th><th>float64</th><th>float64</th></tr></thead>\n",
       "<tr><td>4072620382462406400</td><td>280.36930595244434</td><td>-27.11294799301091</td><td>-0.1608601852817413</td></tr>\n",
       "<tr><td>4072620451181983488</td><td>280.3457905347452</td><td>-27.097042270159324</td><td>-0.04683583134536961</td></tr>\n",
       "<tr><td>4072613544896907904</td><td>279.9175849274292</td><td>-27.307994025090096</td><td>0.0439402761575689</td></tr>\n",
       "<tr><td>4072619351674380416</td><td>280.21896424792584</td><td>-27.14953384606078</td><td>--</td></tr>\n",
       "<tr><td>4072611655085936256</td><td>280.1694140910743</td><td>-27.264003560462235</td><td>0.7896362667704776</td></tr>\n",
       "<tr><td>4072617010885889280</td><td>280.0233876717479</td><td>-27.1582343552404</td><td>0.19965310754334317</td></tr>\n",
       "<tr><td>4072611242769242240</td><td>280.08900827084165</td><td>-27.317867526355144</td><td>-1.3901931154812266</td></tr>\n",
       "<tr><td>4072615056701979648</td><td>279.89695141334727</td><td>-27.241686410694214</td><td>--</td></tr>\n",
       "<tr><td>4072608390913619072</td><td>280.350173300496</td><td>-27.168878472279054</td><td>--</td></tr>\n",
       "<tr><td>4072609078110618624</td><td>280.01204351193377</td><td>-27.396897849902253</td><td>--</td></tr>\n",
       "</table></div>"
      ],
      "text/plain": [
       "<Table length=10>\n",
       "     SOURCE_ID              ra                 dec               parallax      \n",
       "                           deg                 deg                 mas         \n",
       "       int64             float64             float64             float64       \n",
       "------------------- ------------------ ------------------- --------------------\n",
       "4072620382462406400 280.36930595244434  -27.11294799301091  -0.1608601852817413\n",
       "4072620451181983488  280.3457905347452 -27.097042270159324 -0.04683583134536961\n",
       "4072613544896907904  279.9175849274292 -27.307994025090096   0.0439402761575689\n",
       "4072619351674380416 280.21896424792584  -27.14953384606078                   --\n",
       "4072611655085936256  280.1694140910743 -27.264003560462235   0.7896362667704776\n",
       "4072617010885889280  280.0233876717479   -27.1582343552404  0.19965310754334317\n",
       "4072611242769242240 280.08900827084165 -27.317867526355144  -1.3901931154812266\n",
       "4072615056701979648 279.89695141334727 -27.241686410694214                   --\n",
       "4072608390913619072   280.350173300496 -27.168878472279054                   --\n",
       "4072609078110618624 280.01204351193377 -27.396897849902253                   --"
      ]
     },
     "execution_count": 6,
     "metadata": {},
     "output_type": "execute_result"
    }
   ],
   "source": [
    "query1 = \"\"\"\n",
    "SELECT\n",
    "TOP 10\n",
    "source_id, ra, dec, parallax\n",
    "FROM gaiadr2.gaia_source\n",
    "\"\"\"\n",
    "\n",
    "job1 = Gaia.launch_job(query1)\n",
    "results1 = job1.get_results()\n",
    "results1"
   ]
  },
  {
   "cell_type": "code",
   "execution_count": 7,
   "id": "cc5b8540-9ed2-4f21-8764-6be2450e7786",
   "metadata": {},
   "outputs": [
    {
     "name": "stdout",
     "output_type": "stream",
     "text": [
      "INFO: Query finished. [astroquery.utils.tap.core]\n"
     ]
    },
    {
     "data": {
      "text/html": [
       "<div><i>Table length=3000</i>\n",
       "<table id=\"table4612127776\" class=\"table-striped table-bordered table-condensed\">\n",
       "<thead><tr><th>SOURCE_ID</th><th>ra</th><th>dec</th><th>parallax</th><th>pmra</th><th>pmdec</th></tr></thead>\n",
       "<thead><tr><th></th><th>deg</th><th>deg</th><th>mas</th><th>mas / yr</th><th>mas / yr</th></tr></thead>\n",
       "<thead><tr><th>int64</th><th>float64</th><th>float64</th><th>float64</th><th>float64</th><th>float64</th></tr></thead>\n",
       "<tr><td>4072620382462406400</td><td>280.36930595244434</td><td>-27.11294799301091</td><td>-0.1608601852817413</td><td>-1.4153359526670868</td><td>-4.245527444455235</td></tr>\n",
       "<tr><td>4072620451181983488</td><td>280.3457905347452</td><td>-27.097042270159324</td><td>-0.04683583134536961</td><td>-1.7592233072420003</td><td>-3.2488450327089042</td></tr>\n",
       "<tr><td>4072613544896907904</td><td>279.9175849274292</td><td>-27.307994025090096</td><td>0.0439402761575689</td><td>-5.285964955757346</td><td>-6.326607274944567</td></tr>\n",
       "<tr><td>4072611655085936256</td><td>280.1694140910743</td><td>-27.264003560462235</td><td>0.7896362667704776</td><td>-5.618715814277461</td><td>-3.8458604249077286</td></tr>\n",
       "<tr><td>4072617010885889280</td><td>280.0233876717479</td><td>-27.1582343552404</td><td>0.19965310754334317</td><td>-5.380628709425282</td><td>-2.3644917912232657</td></tr>\n",
       "<tr><td>4072611242769242240</td><td>280.08900827084165</td><td>-27.317867526355144</td><td>-1.3901931154812266</td><td>-1.0862190086356402</td><td>-2.092537549938166</td></tr>\n",
       "<tr><td>4072610246337496832</td><td>279.962248387404</td><td>-27.34403853588383</td><td>0.7843623801332068</td><td>-4.715344071745435</td><td>-1.43765898750265</td></tr>\n",
       "<tr><td>4072609284263859072</td><td>280.0528969435746</td><td>-27.393581986985463</td><td>0.15317682075152284</td><td>-1.8904644738225123</td><td>-7.926534087430168</td></tr>\n",
       "<tr><td>4072610929234571648</td><td>280.0936215540233</td><td>-27.336726302547724</td><td>-0.19668908179772063</td><td>-0.5105984384718437</td><td>-7.521510268623399</td></tr>\n",
       "<tr><td>...</td><td>...</td><td>...</td><td>...</td><td>...</td><td>...</td></tr>\n",
       "<tr><td>3341042827491787136</td><td>82.55189831772611</td><td>12.47484996349484</td><td>0.062347381682794</td><td>3.011586799232846</td><td>-3.569855997479318</td></tr>\n",
       "<tr><td>3341157215356309888</td><td>84.84717637307261</td><td>12.627215987469405</td><td>0.5747457130680795</td><td>0.10930386223646486</td><td>-0.6177323789065918</td></tr>\n",
       "<tr><td>4072611307201716864</td><td>280.11794940186314</td><td>-27.30170565431366</td><td>0.1776038038524759</td><td>-3.12825598048207</td><td>-5.795068089928209</td></tr>\n",
       "<tr><td>4072614713104230400</td><td>279.9345838528962</td><td>-27.262467006045085</td><td>0.060867803630596753</td><td>-6.0966147074766734</td><td>-1.7396846818133969</td></tr>\n",
       "<tr><td>4072622199239259264</td><td>280.07339195382787</td><td>-27.147089059708577</td><td>-0.5566839674228321</td><td>0.030480228139092985</td><td>-0.22850103593274698</td></tr>\n",
       "<tr><td>4072612376641078400</td><td>280.06852954570104</td><td>-27.270564724823426</td><td>-0.022382956728857727</td><td>3.0462948492590614</td><td>-2.518568090341851</td></tr>\n",
       "<tr><td>4072610173297618304</td><td>279.9656409342848</td><td>-27.35362773807274</td><td>0.2507279389369882</td><td>1.25786567444652</td><td>-5.2742495892195045</td></tr>\n",
       "<tr><td>4072610693014100608</td><td>279.99557760618336</td><td>-27.311712688672785</td><td>0.27229579261785325</td><td>-3.7229663284128076</td><td>2.6389476897904904</td></tr>\n",
       "<tr><td>5870529869049618432</td><td>207.19523845294748</td><td>-59.53752315226397</td><td>0.16281840805488498</td><td>-5.7313086642640965</td><td>-1.9743988825476162</td></tr>\n",
       "</table></div>"
      ],
      "text/plain": [
       "<Table length=3000>\n",
       "     SOURCE_ID              ra         ...        pmdec        \n",
       "                           deg         ...       mas / yr      \n",
       "       int64             float64       ...       float64       \n",
       "------------------- ------------------ ... --------------------\n",
       "4072620382462406400 280.36930595244434 ...   -4.245527444455235\n",
       "4072620451181983488  280.3457905347452 ...  -3.2488450327089042\n",
       "4072613544896907904  279.9175849274292 ...   -6.326607274944567\n",
       "4072611655085936256  280.1694140910743 ...  -3.8458604249077286\n",
       "4072617010885889280  280.0233876717479 ...  -2.3644917912232657\n",
       "4072611242769242240 280.08900827084165 ...   -2.092537549938166\n",
       "4072610246337496832   279.962248387404 ...    -1.43765898750265\n",
       "4072609284263859072  280.0528969435746 ...   -7.926534087430168\n",
       "4072610929234571648  280.0936215540233 ...   -7.521510268623399\n",
       "                ...                ... ...                  ...\n",
       "3341042827491787136  82.55189831772611 ...   -3.569855997479318\n",
       "3341157215356309888  84.84717637307261 ...  -0.6177323789065918\n",
       "4072611307201716864 280.11794940186314 ...   -5.795068089928209\n",
       "4072614713104230400  279.9345838528962 ...  -1.7396846818133969\n",
       "4072622199239259264 280.07339195382787 ... -0.22850103593274698\n",
       "4072612376641078400 280.06852954570104 ...   -2.518568090341851\n",
       "4072610173297618304  279.9656409342848 ...  -5.2742495892195045\n",
       "4072610693014100608 279.99557760618336 ...   2.6389476897904904\n",
       "5870529869049618432 207.19523845294748 ...  -1.9743988825476162"
      ]
     },
     "execution_count": 7,
     "metadata": {},
     "output_type": "execute_result"
    }
   ],
   "source": [
    "query2 = \"\"\"\n",
    "SELECT\n",
    "TOP 3000\n",
    "source_id, ra, dec, parallax, pmra, pmdec\n",
    "FROM gaiadr2.gaia_source\n",
    "WHERE parallax < 1\n",
    "\"\"\"\n",
    "\n",
    "job2 = Gaia.launch_job_async(query2)\n",
    "results2 = job2.get_results()\n",
    "results2"
   ]
  },
  {
   "cell_type": "markdown",
   "id": "9bd43004-a77b-4d3e-8205-623800d9e123",
   "metadata": {},
   "source": [
    "### Exercise 1.2\n",
    "The clauses in a query have to be in the right order. Go back and change the order of the clauses in query2 and run it again. The modified query should fail, but notice that you don’t get much useful debugging information.\n",
    "\n",
    "For this reason, developing and debugging ADQL queries can be really hard. A few suggestions that might help:\n",
    "\n",
    "- Whenever possible, start with a working query, either an example you find online or a query you have used in the past.\n",
    "\n",
    "- Make small changes and test each change before you continue.\n",
    "\n",
    "- While you are debugging, use TOP to limit the number of rows in the result. That will make each test run faster, which reduces your development time.\n",
    "\n",
    "- Launching test queries synchronously might make them start faster, too.\n",
    "\n",
    "\n"
   ]
  },
  {
   "cell_type": "code",
   "execution_count": 8,
   "id": "fe2506fc-6fe9-4898-80a4-2e8764faef9a",
   "metadata": {},
   "outputs": [],
   "source": [
    "#query2_wrong = \"\"\"\n",
    "#SELECT\n",
    "#WHERE parallax < 1\n",
    "#TOP 3000\n",
    "#source_id, ra, dec, parallax, pmra, pmdec\n",
    "#FROM gaiadr2.gaia_source\n",
    "#\"\"\"\n",
    "\n",
    "#job2_wrong = Gaia.launch_job_async(query2_wrong)\n",
    "#results2_wrong = job2_wrong.get_results()\n",
    "#results2_wrong"
   ]
  },
  {
   "cell_type": "markdown",
   "id": "8dbf7320-3b26-405b-a5b3-133401407290",
   "metadata": {},
   "source": [
    "### Exercise 1.3\n",
    "Read about SQL operators here and then modify the previous query to select rows where `bp_rp` is between `-0.75` and `2`."
   ]
  },
  {
   "cell_type": "code",
   "execution_count": 9,
   "id": "7477b674-d5f7-4374-81cb-f3ec5ce35a0f",
   "metadata": {},
   "outputs": [
    {
     "name": "stdout",
     "output_type": "stream",
     "text": [
      "INFO: Query finished. [astroquery.utils.tap.core]\n"
     ]
    },
    {
     "data": {
      "text/html": [
       "<div><i>Table length=10</i>\n",
       "<table id=\"table4628000176\" class=\"table-striped table-bordered table-condensed\">\n",
       "<thead><tr><th>SOURCE_ID</th><th>ra</th><th>dec</th><th>parallax</th><th>pmra</th><th>pmdec</th></tr></thead>\n",
       "<thead><tr><th></th><th>deg</th><th>deg</th><th>mas</th><th>mas / yr</th><th>mas / yr</th></tr></thead>\n",
       "<thead><tr><th>int64</th><th>float64</th><th>float64</th><th>float64</th><th>float64</th><th>float64</th></tr></thead>\n",
       "<tr><td>5870533206299171072</td><td>206.80233764865108</td><td>-59.662860919060265</td><td>-0.018072835754096496</td><td>-6.569212013371943</td><td>-0.3136955353181985</td></tr>\n",
       "<tr><td>5870510735027838720</td><td>208.141522870855</td><td>-59.41669294542108</td><td>-0.16608582166924046</td><td>-6.967585011257877</td><td>-3.7941983827032795</td></tr>\n",
       "<tr><td>5870529422378632832</td><td>207.18191325273327</td><td>-59.55850732080529</td><td>0.19044816996939581</td><td>-6.892463029478472</td><td>-0.5474825843792823</td></tr>\n",
       "<tr><td>5870539631532283904</td><td>207.03221754773077</td><td>-59.587477528410645</td><td>-0.045291519082163195</td><td>-8.438187213054173</td><td>-1.6228132591798095</td></tr>\n",
       "<tr><td>5870528498972617216</td><td>207.24465653812356</td><td>-59.60433336000034</td><td>0.03351182061535063</td><td>-4.983138501423523</td><td>-1.6442339765338705</td></tr>\n",
       "<tr><td>5870527777417786496</td><td>207.08677856275793</td><td>-59.60240588357733</td><td>-0.1023819438570017</td><td>-7.562143657493955</td><td>-3.097884184604517</td></tr>\n",
       "<tr><td>2030343053586096896</td><td>299.2411195465511</td><td>30.120666867918366</td><td>-0.14397127697681686</td><td>-1.7857937956876877</td><td>-4.157478516901599</td></tr>\n",
       "<tr><td>2030342164557604736</td><td>299.12866789519524</td><td>30.110013404068773</td><td>0.12491415143178668</td><td>-3.636369748930265</td><td>-13.991605717067271</td></tr>\n",
       "<tr><td>2030371885712483840</td><td>298.21337990674095</td><td>29.99750031092102</td><td>-1.7583344888513253</td><td>-5.231355057812954</td><td>-7.583568572510641</td></tr>\n",
       "<tr><td>2030368277939180672</td><td>298.2631650465599</td><td>29.914559256583047</td><td>0.592549960520163</td><td>0.027256559787686152</td><td>-7.540319245383887</td></tr>\n",
       "</table></div>"
      ],
      "text/plain": [
       "<Table length=10>\n",
       "     SOURCE_ID              ra         ...        pmdec       \n",
       "                           deg         ...       mas / yr     \n",
       "       int64             float64       ...       float64      \n",
       "------------------- ------------------ ... -------------------\n",
       "5870533206299171072 206.80233764865108 ... -0.3136955353181985\n",
       "5870510735027838720   208.141522870855 ... -3.7941983827032795\n",
       "5870529422378632832 207.18191325273327 ... -0.5474825843792823\n",
       "5870539631532283904 207.03221754773077 ... -1.6228132591798095\n",
       "5870528498972617216 207.24465653812356 ... -1.6442339765338705\n",
       "5870527777417786496 207.08677856275793 ...  -3.097884184604517\n",
       "2030343053586096896  299.2411195465511 ...  -4.157478516901599\n",
       "2030342164557604736 299.12866789519524 ... -13.991605717067271\n",
       "2030371885712483840 298.21337990674095 ...  -7.583568572510641\n",
       "2030368277939180672  298.2631650465599 ...  -7.540319245383887"
      ]
     },
     "execution_count": 9,
     "metadata": {},
     "output_type": "execute_result"
    }
   ],
   "source": [
    "query3 = \"\"\"\n",
    "SELECT \n",
    "   TOP 10\n",
    "       source_id, ra, dec, parallax, pmra, pmdec\n",
    "  FROM gaiadr2.gaia_source\n",
    " WHERE parallax < 1 \n",
    "   AND bp_rp BETWEEN -0.75 AND 2.0\n",
    "\"\"\"\n",
    "\n",
    "job3 = Gaia.launch_job_async(query3)\n",
    "results3 = job3.get_results()\n",
    "results3"
   ]
  },
  {
   "cell_type": "code",
   "execution_count": 10,
   "id": "92f3a8e5-bd2b-41f5-bed0-630ac456b9f5",
   "metadata": {},
   "outputs": [
    {
     "name": "stdout",
     "output_type": "stream",
     "text": [
      "INFO: Query finished. [astroquery.utils.tap.core]\n"
     ]
    },
    {
     "data": {
      "text/html": [
       "<div><i>Table length=10</i>\n",
       "<table id=\"table4628000752\" class=\"table-striped table-bordered table-condensed\">\n",
       "<thead><tr><th>SOURCE_ID</th><th>ra</th><th>dec</th><th>parallax</th><th>pmra</th><th>pmdec</th></tr></thead>\n",
       "<thead><tr><th></th><th>deg</th><th>deg</th><th>mas</th><th>mas / yr</th><th>mas / yr</th></tr></thead>\n",
       "<thead><tr><th>int64</th><th>float64</th><th>float64</th><th>float64</th><th>float64</th><th>float64</th></tr></thead>\n",
       "<tr><td>5870533206299171072</td><td>206.80233764865108</td><td>-59.662860919060265</td><td>-0.018072835754096496</td><td>-6.569212013371943</td><td>-0.3136955353181985</td></tr>\n",
       "<tr><td>5870510735027838720</td><td>208.141522870855</td><td>-59.41669294542108</td><td>-0.16608582166924046</td><td>-6.967585011257877</td><td>-3.7941983827032795</td></tr>\n",
       "<tr><td>5870529422378632832</td><td>207.18191325273327</td><td>-59.55850732080529</td><td>0.19044816996939581</td><td>-6.892463029478472</td><td>-0.5474825843792823</td></tr>\n",
       "<tr><td>5870539631532283904</td><td>207.03221754773077</td><td>-59.587477528410645</td><td>-0.045291519082163195</td><td>-8.438187213054173</td><td>-1.6228132591798095</td></tr>\n",
       "<tr><td>5870528498972617216</td><td>207.24465653812356</td><td>-59.60433336000034</td><td>0.03351182061535063</td><td>-4.983138501423523</td><td>-1.6442339765338705</td></tr>\n",
       "<tr><td>5870527777417786496</td><td>207.08677856275793</td><td>-59.60240588357733</td><td>-0.1023819438570017</td><td>-7.562143657493955</td><td>-3.097884184604517</td></tr>\n",
       "<tr><td>2030343053586096896</td><td>299.2411195465511</td><td>30.120666867918366</td><td>-0.14397127697681686</td><td>-1.7857937956876877</td><td>-4.157478516901599</td></tr>\n",
       "<tr><td>2030342164557604736</td><td>299.12866789519524</td><td>30.110013404068773</td><td>0.12491415143178668</td><td>-3.636369748930265</td><td>-13.991605717067271</td></tr>\n",
       "<tr><td>2030371885712483840</td><td>298.21337990674095</td><td>29.99750031092102</td><td>-1.7583344888513253</td><td>-5.231355057812954</td><td>-7.583568572510641</td></tr>\n",
       "<tr><td>2030368277939180672</td><td>298.2631650465599</td><td>29.914559256583047</td><td>0.592549960520163</td><td>0.027256559787686152</td><td>-7.540319245383887</td></tr>\n",
       "</table></div>"
      ],
      "text/plain": [
       "<Table length=10>\n",
       "     SOURCE_ID              ra         ...        pmdec       \n",
       "                           deg         ...       mas / yr     \n",
       "       int64             float64       ...       float64      \n",
       "------------------- ------------------ ... -------------------\n",
       "5870533206299171072 206.80233764865108 ... -0.3136955353181985\n",
       "5870510735027838720   208.141522870855 ... -3.7941983827032795\n",
       "5870529422378632832 207.18191325273327 ... -0.5474825843792823\n",
       "5870539631532283904 207.03221754773077 ... -1.6228132591798095\n",
       "5870528498972617216 207.24465653812356 ... -1.6442339765338705\n",
       "5870527777417786496 207.08677856275793 ...  -3.097884184604517\n",
       "2030343053586096896  299.2411195465511 ...  -4.157478516901599\n",
       "2030342164557604736 299.12866789519524 ... -13.991605717067271\n",
       "2030371885712483840 298.21337990674095 ...  -7.583568572510641\n",
       "2030368277939180672  298.2631650465599 ...  -7.540319245383887"
      ]
     },
     "execution_count": 10,
     "metadata": {},
     "output_type": "execute_result"
    }
   ],
   "source": [
    "columns = 'source_id, ra, dec, parallax, pmra, pmdec'\n",
    "\n",
    "query3_base = \"\"\"\n",
    "SELECT TOP 10\n",
    "{columns}\n",
    "  FROM gaiadr2.gaia_source\n",
    " WHERE parallax < 1 \n",
    "   AND bp_rp BETWEEN -0.75 AND 2.0\n",
    "\"\"\"\n",
    "\n",
    "query3 = query3_base.format(columns=columns)\n",
    "job3 = Gaia.launch_job_async(query3)\n",
    "results3 = job3.get_results()\n",
    "results3"
   ]
  },
  {
   "cell_type": "markdown",
   "id": "60659f7f-b0ed-4508-ac05-0452f364c64f",
   "metadata": {},
   "source": [
    "### Exercise 1.4\n",
    "This query always selects sources with parallax less than `1`. But suppose you want to take that upper bound as an input.\n",
    "\n",
    "Modify `query3_base` to replace `1` with a format specifier like `{max_parallax}`. Now, when you call format, add a keyword argument that assigns a value to `max_parallax`, and confirm that the format specifier gets replaced with the value you provide."
   ]
  },
  {
   "cell_type": "code",
   "execution_count": 11,
   "id": "2e41b488-2484-4e6f-855f-1fe154399ca0",
   "metadata": {},
   "outputs": [
    {
     "name": "stdout",
     "output_type": "stream",
     "text": [
      "INFO: Query finished. [astroquery.utils.tap.core]\n"
     ]
    },
    {
     "data": {
      "text/html": [
       "<div><i>Table length=10</i>\n",
       "<table id=\"table4619435040\" class=\"table-striped table-bordered table-condensed\">\n",
       "<thead><tr><th>SOURCE_ID</th><th>ra</th><th>dec</th><th>parallax</th><th>pmra</th><th>pmdec</th></tr></thead>\n",
       "<thead><tr><th></th><th>deg</th><th>deg</th><th>mas</th><th>mas / yr</th><th>mas / yr</th></tr></thead>\n",
       "<thead><tr><th>int64</th><th>float64</th><th>float64</th><th>float64</th><th>float64</th><th>float64</th></tr></thead>\n",
       "<tr><td>5870533206299171072</td><td>206.80233764865108</td><td>-59.662860919060265</td><td>-0.018072835754096496</td><td>-6.569212013371943</td><td>-0.3136955353181985</td></tr>\n",
       "<tr><td>5870510735027838720</td><td>208.141522870855</td><td>-59.41669294542108</td><td>-0.16608582166924046</td><td>-6.967585011257877</td><td>-3.7941983827032795</td></tr>\n",
       "<tr><td>5870529422378632832</td><td>207.18191325273327</td><td>-59.55850732080529</td><td>0.19044816996939581</td><td>-6.892463029478472</td><td>-0.5474825843792823</td></tr>\n",
       "<tr><td>5870539631532283904</td><td>207.03221754773077</td><td>-59.587477528410645</td><td>-0.045291519082163195</td><td>-8.438187213054173</td><td>-1.6228132591798095</td></tr>\n",
       "<tr><td>5870528498972617216</td><td>207.24465653812356</td><td>-59.60433336000034</td><td>0.03351182061535063</td><td>-4.983138501423523</td><td>-1.6442339765338705</td></tr>\n",
       "<tr><td>5870527777417786496</td><td>207.08677856275793</td><td>-59.60240588357733</td><td>-0.1023819438570017</td><td>-7.562143657493955</td><td>-3.097884184604517</td></tr>\n",
       "<tr><td>2030343053586096896</td><td>299.2411195465511</td><td>30.120666867918366</td><td>-0.14397127697681686</td><td>-1.7857937956876877</td><td>-4.157478516901599</td></tr>\n",
       "<tr><td>2030342164557604736</td><td>299.12866789519524</td><td>30.110013404068773</td><td>0.12491415143178668</td><td>-3.636369748930265</td><td>-13.991605717067271</td></tr>\n",
       "<tr><td>2030371885712483840</td><td>298.21337990674095</td><td>29.99750031092102</td><td>-1.7583344888513253</td><td>-5.231355057812954</td><td>-7.583568572510641</td></tr>\n",
       "<tr><td>2030368277939180672</td><td>298.2631650465599</td><td>29.914559256583047</td><td>0.592549960520163</td><td>0.027256559787686152</td><td>-7.540319245383887</td></tr>\n",
       "</table></div>"
      ],
      "text/plain": [
       "<Table length=10>\n",
       "     SOURCE_ID              ra         ...        pmdec       \n",
       "                           deg         ...       mas / yr     \n",
       "       int64             float64       ...       float64      \n",
       "------------------- ------------------ ... -------------------\n",
       "5870533206299171072 206.80233764865108 ... -0.3136955353181985\n",
       "5870510735027838720   208.141522870855 ... -3.7941983827032795\n",
       "5870529422378632832 207.18191325273327 ... -0.5474825843792823\n",
       "5870539631532283904 207.03221754773077 ... -1.6228132591798095\n",
       "5870528498972617216 207.24465653812356 ... -1.6442339765338705\n",
       "5870527777417786496 207.08677856275793 ...  -3.097884184604517\n",
       "2030343053586096896  299.2411195465511 ...  -4.157478516901599\n",
       "2030342164557604736 299.12866789519524 ... -13.991605717067271\n",
       "2030371885712483840 298.21337990674095 ...  -7.583568572510641\n",
       "2030368277939180672  298.2631650465599 ...  -7.540319245383887"
      ]
     },
     "execution_count": 11,
     "metadata": {},
     "output_type": "execute_result"
    }
   ],
   "source": [
    "q4_columns = 'source_id, ra, dec, parallax, pmra, pmdec'\n",
    "q4_max_parallax = 1\n",
    "\n",
    "q4 = \"\"\"\n",
    "SELECT TOP 10\n",
    "{columns}\n",
    "FROM gaiadr2.gaia_source\n",
    "WHERE parallax < {max_parallax}\n",
    "AND bp_rp BETWEEN -0.75 and 2\n",
    "\"\"\"\n",
    "\n",
    "query4 = q4.format(columns=q4_columns, max_parallax=q4_max_parallax)\n",
    "job4 = Gaia.launch_job_async(query4)\n",
    "results4 = job4.get_results()\n",
    "results4"
   ]
  },
  {
   "cell_type": "markdown",
   "id": "7b61b429-9f1d-488e-883c-c66c160ed4fd",
   "metadata": {},
   "source": [
    "## Summary\n",
    "This episode has demonstrated the following steps:\n",
    "\n",
    "1. Making a connection to the Gaia server,\n",
    "\n",
    "1. Exploring information about the database and the tables it contains,\n",
    "\n",
    "1. Writing a query and sending it to the server, and finally\n",
    "\n",
    "1. Downloading the response from the server as an Astropy Table.\n",
    "\n",
    "1. In the next episode we will extend these queries to select a particular region of the sky.\n",
    "\n",
    "Key Points\n",
    "- If you can’t download an entire dataset (or it is not practical) use queries to select the data you need.\n",
    "- Read the metadata and the documentation to make sure you understand the tables, their columns, and what they mean.\n",
    "- Develop queries incrementally: start with something simple, test it, and add a little bit at a time.\n",
    "- Use ADQL features like TOP and COUNT to test before you run a query that might return a lot of data.\n",
    "- If you know your query will return fewer than 3000 rows, you can run it synchronously. If it might return more than 3000 rows, you should -run it asynchronously.\n",
    "- ADQL and SQL are not case-sensitive. You don’t have to capitalize the keywords, but it will make your code more readable.\n",
    "- ADQL and SQL don’t require you to break a query into multiple lines, but it will make your code more readable.\n",
    "- Make each section of the notebook self-contained. Try not to use the same variable name in more than one section.\n",
    "- Keep notebooks short. Look for places where you can break your analysis into phases with one notebook per phase."
   ]
  },
  {
   "cell_type": "code",
   "execution_count": null,
   "id": "dea9cd89-15f0-4788-b4a4-dd11b78c509d",
   "metadata": {},
   "outputs": [],
   "source": []
  }
 ],
 "metadata": {
  "kernelspec": {
   "display_name": "Python 3 (ipykernel)",
   "language": "python",
   "name": "python3"
  },
  "language_info": {
   "codemirror_mode": {
    "name": "ipython",
    "version": 3
   },
   "file_extension": ".py",
   "mimetype": "text/x-python",
   "name": "python",
   "nbconvert_exporter": "python",
   "pygments_lexer": "ipython3",
   "version": "3.12.3"
  }
 },
 "nbformat": 4,
 "nbformat_minor": 5
}
