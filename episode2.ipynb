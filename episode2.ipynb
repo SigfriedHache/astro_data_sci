{
 "cells": [
  {
   "cell_type": "markdown",
   "id": "ea27b128-e602-4bac-b1af-0cf569d241eb",
   "metadata": {},
   "source": [
    "# Episode 2\n",
    "## Questions\n",
    "How do we transform celestial coordinates from one frame to another and save a subset of the results in files?\n",
    "\n",
    "## Objectives\n",
    "Use Python string formatting to compose more complex ADQL queries.\n",
    "Work with coordinates and other quantities that have units.\n",
    "Download the results of a query and store them in a file.\n",
    "\n",
    "## Outline\n",
    "We’ll start with an example that does a “cone search”; that is, it selects stars that appear in a circular region of the sky.\n",
    "Then, to select stars in the vicinity of GD-1, we will:\n",
    "- Use `Quantity` objects to represent measurements with units.\n",
    "- Use `Astropy` to convert coordinates from one frame to another.\n",
    "- Use the ADQL keywords `POLYGON`, `CONTAINS`, and `POINT` to select stars that fall within a polygonal region.\n",
    "- Submit a query and download the results.\n",
    "- Store the results in a `FITS` file."
   ]
  },
  {
   "cell_type": "code",
   "execution_count": 1,
   "id": "7ddf499f-375f-4a6a-b04d-03fccb46d316",
   "metadata": {},
   "outputs": [],
   "source": [
    "## import block\n",
    "import astropy.units as u\n",
    "import numpy as np\n",
    "\n",
    "from os.path import getsize\n",
    "\n",
    "from astropy.coordinates import SkyCoord\n",
    "from astroquery.gaia import Gaia\n",
    "from gala.coordinates import GD1Koposov10\n",
    "\n",
    "from astro_utils.geometry import make_sky_rectangle\n",
    "from astro_utils.formatting import skycoord_to_string"
   ]
  },
  {
   "cell_type": "code",
   "execution_count": 2,
   "id": "557d79ad-1eaf-4c13-8129-bd3552e563c6",
   "metadata": {},
   "outputs": [
    {
     "name": "stdout",
     "output_type": "stream",
     "text": [
      "10.0 deg\n",
      "<class 'astropy.units.quantity.Quantity'>\n"
     ]
    }
   ],
   "source": [
    "# create angle\n",
    "angle = 10 * u.degree\n",
    "print(f'{angle}\\n{type(angle)}')"
   ]
  },
  {
   "cell_type": "code",
   "execution_count": 3,
   "id": "86a8d5ec-b919-4833-887c-b3e0261b93e5",
   "metadata": {},
   "outputs": [
    {
     "name": "stdout",
     "output_type": "stream",
     "text": [
      "600.0 arcmin\n"
     ]
    }
   ],
   "source": [
    "# convert to arcmin\n",
    "angle_arcmin = angle.to(u.arcmin)\n",
    "print(angle_arcmin)"
   ]
  },
  {
   "cell_type": "code",
   "execution_count": 4,
   "id": "57150270-f13b-4688-855d-c5bd3044d30e",
   "metadata": {},
   "outputs": [
    {
     "data": {
      "text/latex": [
       "$10.5\\mathrm{{}^{\\circ}}$"
      ],
      "text/plain": [
       "<Quantity 10.5 deg>"
      ]
     },
     "execution_count": 4,
     "metadata": {},
     "output_type": "execute_result"
    }
   ],
   "source": [
    "angle + 30 * u.arcmin"
   ]
  },
  {
   "cell_type": "code",
   "execution_count": 5,
   "id": "7873e281-b650-4834-a228-cebc562e566e",
   "metadata": {},
   "outputs": [
    {
     "name": "stdout",
     "output_type": "stream",
     "text": [
      "There was an exception.\n"
     ]
    }
   ],
   "source": [
    "try: \n",
    "    angle + 5 * u.kg\n",
    "except Exception as e:\n",
    "    print(f'There was an exception.')"
   ]
  },
  {
   "cell_type": "markdown",
   "id": "5dee58aa-68db-449d-be2f-c13f7979b514",
   "metadata": {},
   "source": [
    "### Exercise 2.1\n",
    "Create a quantity that represents `5` arcminutes and assign it to a variable called radius.\n",
    "\n",
    "Then convert it to degrees."
   ]
  },
  {
   "cell_type": "code",
   "execution_count": 6,
   "id": "f874f2cc-497c-4c82-9f22-f8a532f0683a",
   "metadata": {},
   "outputs": [
    {
     "name": "stdout",
     "output_type": "stream",
     "text": [
      "0.08333333333333333 deg\n"
     ]
    }
   ],
   "source": [
    "angle = 5 * u.arcmin\n",
    "angle = angle.to(u.degree)\n",
    "print(angle)"
   ]
  },
  {
   "cell_type": "markdown",
   "id": "e18c6882-1967-41fc-9c25-2b1fafcdbb19",
   "metadata": {},
   "source": [
    "## Selecting a Region"
   ]
  },
  {
   "cell_type": "code",
   "execution_count": 7,
   "id": "1b1a945f-7cf6-46b7-a97b-2b1bccb678a2",
   "metadata": {},
   "outputs": [
    {
     "data": {
      "text/html": [
       "<div><i>Table length=10</i>\n",
       "<table id=\"table4614701856\" class=\"table-striped table-bordered table-condensed\">\n",
       "<thead><tr><th>SOURCE_ID</th></tr></thead>\n",
       "<thead><tr><th>int64</th></tr></thead>\n",
       "<tr><td>3322773965056065536</td></tr>\n",
       "<tr><td>3322773758899157120</td></tr>\n",
       "<tr><td>3322774068134271104</td></tr>\n",
       "<tr><td>3322773930696320512</td></tr>\n",
       "<tr><td>3322774377374425728</td></tr>\n",
       "<tr><td>3322773724537891456</td></tr>\n",
       "<tr><td>3322773724537891328</td></tr>\n",
       "<tr><td>3322773930696321792</td></tr>\n",
       "<tr><td>3322773724537890944</td></tr>\n",
       "<tr><td>3322773930696322176</td></tr>\n",
       "</table></div>"
      ],
      "text/plain": [
       "<Table length=10>\n",
       "     SOURCE_ID     \n",
       "       int64       \n",
       "-------------------\n",
       "3322773965056065536\n",
       "3322773758899157120\n",
       "3322774068134271104\n",
       "3322773930696320512\n",
       "3322774377374425728\n",
       "3322773724537891456\n",
       "3322773724537891328\n",
       "3322773930696321792\n",
       "3322773724537890944\n",
       "3322773930696322176"
      ]
     },
     "execution_count": 7,
     "metadata": {},
     "output_type": "execute_result"
    }
   ],
   "source": [
    "cone_query1 = \"\"\"SELECT \n",
    "TOP 10 \n",
    "source_id\n",
    "FROM gaiadr2.gaia_source\n",
    "WHERE 1 = CONTAINS(\n",
    "  POINT(ra, dec),\n",
    "  CIRCLE(88.8, 7.4, 0.08333333))\n",
    "\"\"\"\n",
    "\n",
    "cone_job1 = Gaia.launch_job(cone_query1)\n",
    "cone_results1 = cone_job1.get_results()\n",
    "cone_results1"
   ]
  },
  {
   "cell_type": "markdown",
   "id": "31eba944-ad45-435a-8cdd-0dbb3a3cc061",
   "metadata": {},
   "source": [
    "### Exercise 2.2\n",
    "When you are debugging queries like this, you can use `TOP` to limit the size of the results, but then you still don’t know how big the results will be.\n",
    "\n",
    "An alternative is to use `COUNT`, which asks for the number of rows that would be selected, but it does not return them.\n",
    "\n",
    "In the previous query, replace `TOP 10 source_id` with `COUNT(source_id)` and run the query again. How many stars has Gaia identified in the cone we searched?"
   ]
  },
  {
   "cell_type": "code",
   "execution_count": 8,
   "id": "32307ad5-3624-43bb-9124-232a0120bec9",
   "metadata": {},
   "outputs": [
    {
     "data": {
      "text/html": [
       "<div><i>Table length=1</i>\n",
       "<table id=\"table4603427200\" class=\"table-striped table-bordered table-condensed\">\n",
       "<thead><tr><th>COUNT</th></tr></thead>\n",
       "<thead><tr><th>int64</th></tr></thead>\n",
       "<tr><td>594</td></tr>\n",
       "</table></div>"
      ],
      "text/plain": [
       "<Table length=1>\n",
       "COUNT\n",
       "int64\n",
       "-----\n",
       "  594"
      ]
     },
     "execution_count": 8,
     "metadata": {},
     "output_type": "execute_result"
    }
   ],
   "source": [
    "cone_query2 = \"\"\"SELECT \n",
    "COUNT(source_id)\n",
    "FROM gaiadr2.gaia_source\n",
    "WHERE 1 = CONTAINS(\n",
    "  POINT(ra, dec),\n",
    "  CIRCLE(88.8, 7.4, 0.08333333))\n",
    "\"\"\"\n",
    "\n",
    "cone_job2 = Gaia.launch_job(cone_query2)\n",
    "cone_results2 = cone_job2.get_results()\n",
    "cone_results2"
   ]
  },
  {
   "cell_type": "markdown",
   "id": "e36a8127-69b3-4135-839a-b108d5753b3c",
   "metadata": {},
   "source": [
    "## Transforming Coordinates"
   ]
  },
  {
   "cell_type": "code",
   "execution_count": 9,
   "id": "69d7d13b-2a82-4c63-82fd-47131bfac572",
   "metadata": {},
   "outputs": [
    {
     "data": {
      "text/plain": [
       "<SkyCoord (ICRS): (ra, dec) in deg\n",
       "    (88.8, 7.4)>"
      ]
     },
     "execution_count": 9,
     "metadata": {},
     "output_type": "execute_result"
    }
   ],
   "source": [
    "# create point in ICRS\n",
    "ra = 88.8 * u.degree\n",
    "dec = 7.4 * u.degree\n",
    "coord_icrs = SkyCoord(ra=ra, dec=dec, frame='icrs')\n",
    "\n",
    "coord_icrs"
   ]
  },
  {
   "cell_type": "code",
   "execution_count": 10,
   "id": "13db2ca1-967c-4eab-80ac-1afa0207a4ac",
   "metadata": {},
   "outputs": [
    {
     "data": {
      "text/plain": [
       "<SkyCoord (Galactic): (l, b) in deg\n",
       "    (199.79693102, -8.95591653)>"
      ]
     },
     "execution_count": 10,
     "metadata": {},
     "output_type": "execute_result"
    }
   ],
   "source": [
    "# transform to galactic\n",
    "coord_galactic = coord_icrs.transform_to('galactic')\n",
    "coord_galactic"
   ]
  },
  {
   "cell_type": "code",
   "execution_count": 11,
   "id": "200eedc9-0fc2-4c1d-a427-3f8b8a05a06a",
   "metadata": {},
   "outputs": [
    {
     "data": {
      "text/plain": [
       "<SkyCoord (GD1Koposov10): (phi1, phi2) in deg\n",
       "    (-94.97222038, 34.5813813)>"
      ]
     },
     "execution_count": 11,
     "metadata": {},
     "output_type": "execute_result"
    }
   ],
   "source": [
    "# transform to GD-1, as defined by our reference frame\n",
    "gd1_frame = GD1Koposov10()\n",
    "coord_gd1 = coord_icrs.transform_to(gd1_frame)\n",
    "coord_gd1"
   ]
  },
  {
   "cell_type": "markdown",
   "id": "0722986b-a460-4c21-bb94-6755d5e75458",
   "metadata": {},
   "source": [
    "### Exercise 2.3\n",
    "Find the location of GD-1 in ICRS coordinates.\n",
    "\n",
    "Create a SkyCoord object at `0°, 0°` in the GD-1 frame.\n",
    "\n",
    "Transform it to the ICRS frame.\n",
    "\n",
    "Hint: Because ICRS is a standard frame, it is built into Astropy. You can specify it by name, icrs (as we did with galactic)."
   ]
  },
  {
   "cell_type": "code",
   "execution_count": 12,
   "id": "523e6196-126f-46e4-ae84-34410a61ea9e",
   "metadata": {},
   "outputs": [
    {
     "data": {
      "text/plain": [
       "<SkyCoord (ICRS): (ra, dec) in deg\n",
       "    (200., 59.4504341)>"
      ]
     },
     "execution_count": 12,
     "metadata": {},
     "output_type": "execute_result"
    }
   ],
   "source": [
    "gd1_phi1 = 0 * u.degree\n",
    "gd1_phi2 = 0 * u.degree\n",
    "\n",
    "coord_gd1 = SkyCoord(phi1=gd1_phi1, phi2=gd1_phi2, frame=GD1Koposov10())\n",
    "coord_gd1.transform_to('icrs')"
   ]
  },
  {
   "cell_type": "markdown",
   "id": "7ddc5e68-2386-4513-98ae-b1bec0b391ba",
   "metadata": {},
   "source": [
    "## Selecting a rectangle\n",
    "Now that we know how to define coordinate transformations, we are going to use them to get a list of stars that are in GD-1. As we mentioned before, this is a lot of stars, so we are going to start by defining a rectangle that encompasses a small part of GD-1. This is easiest to define in GD-1 coordinates."
   ]
  },
  {
   "cell_type": "code",
   "execution_count": 13,
   "id": "4eb6fe4d-0ed7-40a3-bf9c-17dd94cec221",
   "metadata": {},
   "outputs": [],
   "source": [
    "# Define the rectangle in GD1 coords\n",
    "phi1_min = -55 * u.degree \n",
    "phi1_max = -45 * u.degree\n",
    "phi2_min = -8 * u.degree\n",
    "phi2_max = 4 * u.degree\n",
    "\n",
    "corners = make_sky_rectangle(phi1_min, phi1_max, phi2_min, phi2_max, GD1Koposov10())\n"
   ]
  },
  {
   "cell_type": "code",
   "execution_count": 14,
   "id": "0ed2eb25-b097-4739-af27-cf2ca60ff86a",
   "metadata": {},
   "outputs": [
    {
     "data": {
      "text/plain": [
       "<SkyCoord (ICRS): (ra, dec) in deg\n",
       "    [(146.27533314, 19.26190982), (135.42163944, 25.87738723),\n",
       "     (141.60264825, 34.3048303 ), (152.81671045, 27.13611254),\n",
       "     (146.27533314, 19.26190982)]>"
      ]
     },
     "execution_count": 14,
     "metadata": {},
     "output_type": "execute_result"
    }
   ],
   "source": [
    "# Transform to ICRS\n",
    "corners_icrs = corners.transform_to('icrs')\n",
    "corners_icrs"
   ]
  },
  {
   "cell_type": "markdown",
   "id": "a70d4179-d952-4591-948d-33e7fc51eeef",
   "metadata": {},
   "source": [
    "## Defining a polygon\n",
    "In order to use this polygon as part of an ADQL query, we have to convert it to a string with a comma-separated list of coordinates, as in this example."
   ]
  },
  {
   "cell_type": "code",
   "execution_count": 15,
   "id": "b2d9dab2-f736-4f00-8a9b-2768bc492dfa",
   "metadata": {},
   "outputs": [
    {
     "data": {
      "text/plain": [
       "'146.275, 19.2619, 135.422, 25.8774, 141.603, 34.3048, 152.817, 27.1361, 146.275, 19.2619'"
      ]
     },
     "execution_count": 15,
     "metadata": {},
     "output_type": "execute_result"
    }
   ],
   "source": [
    "corners_icrs_string = ' '.join(corners_icrs.to_string()).replace(' ',', ')\n",
    "corners_icrs_string"
   ]
  },
  {
   "cell_type": "code",
   "execution_count": 16,
   "id": "2350335f-8810-4ddc-a93a-cdc869c17989",
   "metadata": {},
   "outputs": [
    {
     "data": {
      "text/plain": [
       "'146.275, 19.2619, 135.422, 25.8774, 141.603, 34.3048, 152.817, 27.1361, 146.275, 19.2619'"
      ]
     },
     "execution_count": 16,
     "metadata": {},
     "output_type": "execute_result"
    }
   ],
   "source": [
    "skycoord_to_string(corners_icrs)"
   ]
  },
  {
   "cell_type": "markdown",
   "id": "b107a645-0d3c-40b4-ae30-66c634b4805f",
   "metadata": {},
   "source": [
    "## Assembling the Query"
   ]
  },
  {
   "cell_type": "code",
   "execution_count": 17,
   "id": "87682f50-8a01-4d8b-a9d4-b0d59c5f8bf8",
   "metadata": {},
   "outputs": [
    {
     "name": "stdout",
     "output_type": "stream",
     "text": [
      "INFO: Query finished. [astroquery.utils.tap.core]\n",
      "140339\n"
     ]
    }
   ],
   "source": [
    "columns = 'source_id, ra, dec, pmra, pmdec, parallax'\n",
    "\n",
    "polygon_query_base = \"\"\"\n",
    "SELECT \n",
    "{columns}\n",
    "FROM gaiadr2.gaia_source\n",
    "WHERE parallax < 1\n",
    "  AND bp_rp BETWEEN -0.75 AND 2 \n",
    "  AND 1 = CONTAINS(POINT(ra, dec), \n",
    "                   POLYGON({sky_point_list}))\n",
    "\"\"\"\n",
    "\n",
    "polygon_query = polygon_query_base.format(columns=columns, sky_point_list=skycoord_to_string(corners_icrs))\n",
    "\n",
    "polygon_query_job = Gaia.launch_job_async(polygon_query)\n",
    "polygon_results = polygon_query_job.get_results()\n",
    "print(len(polygon_results))\n"
   ]
  },
  {
   "cell_type": "code",
   "execution_count": 18,
   "id": "80c6733a-63bb-49d1-ba23-be6e8fc6137f",
   "metadata": {},
   "outputs": [
    {
     "data": {
      "text/plain": [
       "6.4324951171875"
      ]
     },
     "execution_count": 18,
     "metadata": {},
     "output_type": "execute_result"
    }
   ],
   "source": [
    "filename = 'gd1_results.fits'\n",
    "polygon_results.write(filename, overwrite=True)\n",
    "\n",
    "getsize(filename) / 1024 / 1024"
   ]
  },
  {
   "cell_type": "markdown",
   "id": "e7a3b788-e5ec-499c-b7be-589c4336bbe7",
   "metadata": {},
   "source": [
    "## Summary\n",
    "In this notebook, we composed more complex queries to select stars within a polygonal region of the sky. Then we downloaded the results and saved them in a FITS file.\n",
    "\n",
    "In the next notebook, we’ll reload the data from this file and replicate the next step in the analysis, using proper motion to identify stars likely to be in GD-1.\n",
    "\n",
    "KEY POINTS\n",
    "- For measurements with units, use Quantity objects that represent units explicitly and check for errors.\n",
    "- Use the format function to compose queries; it is often faster and less error-prone.\n",
    "- Develop queries incrementally: start with something simple, test it, and add a little bit at a time.\n",
    "- Once you have a query working, save the data in a local file. If you shut down the notebook and come back to it later, you can reload the file; you don’t have to run the query again.\n"
   ]
  }
 ],
 "metadata": {
  "kernelspec": {
   "display_name": "Python 3 (ipykernel)",
   "language": "python",
   "name": "python3"
  },
  "language_info": {
   "codemirror_mode": {
    "name": "ipython",
    "version": 3
   },
   "file_extension": ".py",
   "mimetype": "text/x-python",
   "name": "python",
   "nbconvert_exporter": "python",
   "pygments_lexer": "ipython3",
   "version": "3.12.3"
  }
 },
 "nbformat": 4,
 "nbformat_minor": 5
}
